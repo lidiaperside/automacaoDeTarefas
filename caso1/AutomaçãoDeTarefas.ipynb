{
 "cells": [
  {
   "cell_type": "markdown",
   "id": "7aa7ea30",
   "metadata": {},
   "source": [
    "# Buscar dados"
   ]
  },
  {
   "cell_type": "code",
   "execution_count": null,
   "id": "9a9a633f",
   "metadata": {},
   "outputs": [],
   "source": [
    "#!pip install yfinance"
   ]
  },
  {
   "cell_type": "code",
   "execution_count": 2,
   "id": "7b93ec07",
   "metadata": {},
   "outputs": [],
   "source": [
    "import yfinance"
   ]
  },
  {
   "cell_type": "code",
   "execution_count": 3,
   "id": "8240f218",
   "metadata": {},
   "outputs": [
    {
     "name": "stdout",
     "output_type": "stream",
     "text": [
      "Digite o código da ação: PETR4.SA\n"
     ]
    }
   ],
   "source": [
    "ticker = input(\"Digite o código da ação: \")"
   ]
  },
  {
   "cell_type": "code",
   "execution_count": 4,
   "id": "468ae163",
   "metadata": {},
   "outputs": [
    {
     "data": {
      "text/html": [
       "<div>\n",
       "<style scoped>\n",
       "    .dataframe tbody tr th:only-of-type {\n",
       "        vertical-align: middle;\n",
       "    }\n",
       "\n",
       "    .dataframe tbody tr th {\n",
       "        vertical-align: top;\n",
       "    }\n",
       "\n",
       "    .dataframe thead th {\n",
       "        text-align: right;\n",
       "    }\n",
       "</style>\n",
       "<table border=\"1\" class=\"dataframe\">\n",
       "  <thead>\n",
       "    <tr style=\"text-align: right;\">\n",
       "      <th></th>\n",
       "      <th>Open</th>\n",
       "      <th>High</th>\n",
       "      <th>Low</th>\n",
       "      <th>Close</th>\n",
       "      <th>Volume</th>\n",
       "      <th>Dividends</th>\n",
       "      <th>Stock Splits</th>\n",
       "    </tr>\n",
       "    <tr>\n",
       "      <th>Date</th>\n",
       "      <th></th>\n",
       "      <th></th>\n",
       "      <th></th>\n",
       "      <th></th>\n",
       "      <th></th>\n",
       "      <th></th>\n",
       "      <th></th>\n",
       "    </tr>\n",
       "  </thead>\n",
       "  <tbody>\n",
       "    <tr>\n",
       "      <th>2022-09-08 00:00:00-03:00</th>\n",
       "      <td>28.269563</td>\n",
       "      <td>28.680786</td>\n",
       "      <td>27.473359</td>\n",
       "      <td>27.823338</td>\n",
       "      <td>63159800</td>\n",
       "      <td>0.0</td>\n",
       "      <td>0.0</td>\n",
       "    </tr>\n",
       "    <tr>\n",
       "      <th>2022-09-09 00:00:00-03:00</th>\n",
       "      <td>28.427053</td>\n",
       "      <td>28.584540</td>\n",
       "      <td>27.735843</td>\n",
       "      <td>27.814589</td>\n",
       "      <td>49871900</td>\n",
       "      <td>0.0</td>\n",
       "      <td>0.0</td>\n",
       "    </tr>\n",
       "    <tr>\n",
       "      <th>2022-09-12 00:00:00-03:00</th>\n",
       "      <td>28.129571</td>\n",
       "      <td>28.637039</td>\n",
       "      <td>27.525855</td>\n",
       "      <td>27.543354</td>\n",
       "      <td>71374500</td>\n",
       "      <td>0.0</td>\n",
       "      <td>0.0</td>\n",
       "    </tr>\n",
       "    <tr>\n",
       "      <th>2022-09-13 00:00:00-03:00</th>\n",
       "      <td>27.070884</td>\n",
       "      <td>27.508358</td>\n",
       "      <td>26.703406</td>\n",
       "      <td>26.817148</td>\n",
       "      <td>88327800</td>\n",
       "      <td>0.0</td>\n",
       "      <td>0.0</td>\n",
       "    </tr>\n",
       "    <tr>\n",
       "      <th>2022-09-14 00:00:00-03:00</th>\n",
       "      <td>26.904643</td>\n",
       "      <td>27.499608</td>\n",
       "      <td>26.799649</td>\n",
       "      <td>27.228374</td>\n",
       "      <td>49039700</td>\n",
       "      <td>0.0</td>\n",
       "      <td>0.0</td>\n",
       "    </tr>\n",
       "    <tr>\n",
       "      <th>...</th>\n",
       "      <td>...</td>\n",
       "      <td>...</td>\n",
       "      <td>...</td>\n",
       "      <td>...</td>\n",
       "      <td>...</td>\n",
       "      <td>...</td>\n",
       "      <td>...</td>\n",
       "    </tr>\n",
       "    <tr>\n",
       "      <th>2023-03-01 00:00:00-03:00</th>\n",
       "      <td>25.309999</td>\n",
       "      <td>25.430000</td>\n",
       "      <td>24.190001</td>\n",
       "      <td>25.299999</td>\n",
       "      <td>109257700</td>\n",
       "      <td>0.0</td>\n",
       "      <td>0.0</td>\n",
       "    </tr>\n",
       "    <tr>\n",
       "      <th>2023-03-02 00:00:00-03:00</th>\n",
       "      <td>25.420000</td>\n",
       "      <td>25.670000</td>\n",
       "      <td>24.370001</td>\n",
       "      <td>24.639999</td>\n",
       "      <td>124516200</td>\n",
       "      <td>0.0</td>\n",
       "      <td>0.0</td>\n",
       "    </tr>\n",
       "    <tr>\n",
       "      <th>2023-03-03 00:00:00-03:00</th>\n",
       "      <td>24.830000</td>\n",
       "      <td>25.740000</td>\n",
       "      <td>24.450001</td>\n",
       "      <td>25.700001</td>\n",
       "      <td>87591800</td>\n",
       "      <td>0.0</td>\n",
       "      <td>0.0</td>\n",
       "    </tr>\n",
       "    <tr>\n",
       "      <th>2023-03-06 00:00:00-03:00</th>\n",
       "      <td>25.700001</td>\n",
       "      <td>26.120001</td>\n",
       "      <td>25.370001</td>\n",
       "      <td>25.959999</td>\n",
       "      <td>50227400</td>\n",
       "      <td>0.0</td>\n",
       "      <td>0.0</td>\n",
       "    </tr>\n",
       "    <tr>\n",
       "      <th>2023-03-07 00:00:00-03:00</th>\n",
       "      <td>0.000000</td>\n",
       "      <td>0.000000</td>\n",
       "      <td>0.000000</td>\n",
       "      <td>25.100000</td>\n",
       "      <td>0</td>\n",
       "      <td>0.0</td>\n",
       "      <td>0.0</td>\n",
       "    </tr>\n",
       "  </tbody>\n",
       "</table>\n",
       "<p>123 rows × 7 columns</p>\n",
       "</div>"
      ],
      "text/plain": [
       "                                Open       High        Low      Close  \\\n",
       "Date                                                                    \n",
       "2022-09-08 00:00:00-03:00  28.269563  28.680786  27.473359  27.823338   \n",
       "2022-09-09 00:00:00-03:00  28.427053  28.584540  27.735843  27.814589   \n",
       "2022-09-12 00:00:00-03:00  28.129571  28.637039  27.525855  27.543354   \n",
       "2022-09-13 00:00:00-03:00  27.070884  27.508358  26.703406  26.817148   \n",
       "2022-09-14 00:00:00-03:00  26.904643  27.499608  26.799649  27.228374   \n",
       "...                              ...        ...        ...        ...   \n",
       "2023-03-01 00:00:00-03:00  25.309999  25.430000  24.190001  25.299999   \n",
       "2023-03-02 00:00:00-03:00  25.420000  25.670000  24.370001  24.639999   \n",
       "2023-03-03 00:00:00-03:00  24.830000  25.740000  24.450001  25.700001   \n",
       "2023-03-06 00:00:00-03:00  25.700001  26.120001  25.370001  25.959999   \n",
       "2023-03-07 00:00:00-03:00   0.000000   0.000000   0.000000  25.100000   \n",
       "\n",
       "                              Volume  Dividends  Stock Splits  \n",
       "Date                                                           \n",
       "2022-09-08 00:00:00-03:00   63159800        0.0           0.0  \n",
       "2022-09-09 00:00:00-03:00   49871900        0.0           0.0  \n",
       "2022-09-12 00:00:00-03:00   71374500        0.0           0.0  \n",
       "2022-09-13 00:00:00-03:00   88327800        0.0           0.0  \n",
       "2022-09-14 00:00:00-03:00   49039700        0.0           0.0  \n",
       "...                              ...        ...           ...  \n",
       "2023-03-01 00:00:00-03:00  109257700        0.0           0.0  \n",
       "2023-03-02 00:00:00-03:00  124516200        0.0           0.0  \n",
       "2023-03-03 00:00:00-03:00   87591800        0.0           0.0  \n",
       "2023-03-06 00:00:00-03:00   50227400        0.0           0.0  \n",
       "2023-03-07 00:00:00-03:00          0        0.0           0.0  \n",
       "\n",
       "[123 rows x 7 columns]"
      ]
     },
     "execution_count": 4,
     "metadata": {},
     "output_type": "execute_result"
    }
   ],
   "source": [
    "dados = yfinance.Ticker(ticker).history('6mo')\n",
    "\n",
    "dados"
   ]
  },
  {
   "cell_type": "code",
   "execution_count": 5,
   "id": "95885460",
   "metadata": {},
   "outputs": [
    {
     "data": {
      "text/plain": [
       "<AxesSubplot:xlabel='Date'>"
      ]
     },
     "execution_count": 5,
     "metadata": {},
     "output_type": "execute_result"
    },
    {
     "data": {
      "image/png": "[encoded data removed]",
      "text/plain": [
       "<Figure size 432x288 with 1 Axes>"
      ]
     },
     "metadata": {
      "needs_background": "light"
     },
     "output_type": "display_data"
    }
   ],
   "source": [
    "dadosClose = dados.Close\n",
    "dadosClose.plot()"
   ]
  },
  {
   "cell_type": "markdown",
   "id": "bff0f8ad",
   "metadata": {},
   "source": [
    "# Criar as analises"
   ]
  },
  {
   "cell_type": "code",
   "execution_count": 6,
   "id": "b8cab7ab",
   "metadata": {},
   "outputs": [
    {
     "data": {
      "text/plain": [
       "33.003028869628906"
      ]
     },
     "execution_count": 6,
     "metadata": {},
     "output_type": "execute_result"
    }
   ],
   "source": [
    "maxima = dadosClose.max()\n",
    "maxima"
   ]
  },
  {
   "cell_type": "code",
   "execution_count": 7,
   "id": "beea10a6",
   "metadata": {},
   "outputs": [
    {
     "data": {
      "text/plain": [
       "21.469999313354492"
      ]
     },
     "execution_count": 7,
     "metadata": {},
     "output_type": "execute_result"
    }
   ],
   "source": [
    "minima = dadosClose.min()\n",
    "minima"
   ]
  },
  {
   "cell_type": "code",
   "execution_count": 8,
   "id": "4f77b775",
   "metadata": {},
   "outputs": [
    {
     "data": {
      "text/plain": [
       "25.100000381469727"
      ]
     },
     "execution_count": 8,
     "metadata": {},
     "output_type": "execute_result"
    }
   ],
   "source": [
    "atual = dadosClose[-1]\n",
    "atual"
   ]
  },
  {
   "cell_type": "markdown",
   "id": "bf7c7dd7",
   "metadata": {},
   "source": [
    "# Enviar email"
   ]
  },
  {
   "cell_type": "code",
   "execution_count": null,
   "id": "c2de0c3f",
   "metadata": {},
   "outputs": [],
   "source": [
    "#!pip install pyautogui\n",
    "#!pip install pyperclip"
   ]
  },
  {
   "cell_type": "code",
   "execution_count": 11,
   "id": "1de9b231",
   "metadata": {},
   "outputs": [],
   "source": [
    "import pyautogui\n",
    "import pyperclip"
   ]
  },
  {
   "cell_type": "code",
   "execution_count": 21,
   "id": "61eefcf7",
   "metadata": {},
   "outputs": [],
   "source": [
    "pyautogui.PAUSE = 2\n",
    "\n",
    "#abrindo uma nova aba\n",
    "pyautogui.hotkey(\"ctrl\", \"t\")\n",
    "pyperclip.copy(\"www.gmail.com\")\n",
    "pyautogui.hotkey(\"ctrl\", \"v\")\n",
    "pyautogui.hotkey(\"enter\")\n",
    "\n",
    "#escrevendo o email\n",
    "pyautogui.click(x=99,y=255)\n",
    "pyperclip.copy(\"lidiaperside@gmail.com\")\n",
    "pyautogui.hotkey(\"ctrl\",\"v\")\n",
    "pyautogui.hotkey(\"tab\")\n",
    "\n",
    "#Assunto\n",
    "pyperclip.copy(\"Análise diária\")\n",
    "pyautogui.hotkey(\"ctrl\", \"v\")\n",
    "pyautogui.hotkey(\"tab\")\n",
    "\n",
    "#Escrevendo o email\n",
    "mensagem = f\"\"\"\n",
    "Prezado Gestor,\n",
    "\n",
    "Segue a análise dos últimos seis meses da ação {ticker}:\n",
    "\n",
    "Cotação máxima: R$ {round(maxima,2)}\n",
    "Cotação mínima: R$ {round(minima,2)}\n",
    "Cotação atual: R$ {round(atual,2)}\n",
    "\n",
    "Qualquer dúvida, estou a disposição.\n",
    "\n",
    "Att,\n",
    "\n",
    "Lidia Perside\n",
    "\"\"\"\n",
    "pyperclip.copy(mensagem)\n",
    "pyautogui.hotkey(\"ctrl\", \"v\")\n",
    "\n",
    "#Enviando email\n",
    "pyautogui.click(x=1262,y=913)"
   ]
  },
  {
   "cell_type": "code",
   "execution_count": 20,
   "id": "fdaf26de",
   "metadata": {},
   "outputs": [],
   "source": [
    "import time\n",
    "\n",
    "time.sleep(5)\n",
    "#botão escrever\n",
    "#pyautogui.position()"
   ]
  },
  {
   "cell_type": "code",
   "execution_count": 15,
   "id": "478c3302",
   "metadata": {},
   "outputs": [
    {
     "data": {
      "text/plain": [
       "Point(x=1262, y=913)"
      ]
     },
     "execution_count": 15,
     "metadata": {},
     "output_type": "execute_result"
    }
   ],
   "source": [
    "#botão enviar\n",
    "time.sleep(5)\n",
    "#pyautogui.position()"
   ]
  },
  {
   "cell_type": "code",
   "execution_count": null,
   "id": "22379742",
   "metadata": {},
   "outputs": [],
   "source": []
  }
 ],
 "metadata": {
  "kernelspec": {
   "display_name": "Python 3 (ipykernel)",
   "language": "python",
   "name": "python3"
  },
  "language_info": {
   "codemirror_mode": {
    "name": "ipython",
    "version": 3
   },
   "file_extension": ".py",
   "mimetype": "text/x-python",
   "name": "python",
   "nbconvert_exporter": "python",
   "pygments_lexer": "ipython3",
   "version": "3.9.12"
  }
 },
 "nbformat": 4,
 "nbformat_minor": 5
}
